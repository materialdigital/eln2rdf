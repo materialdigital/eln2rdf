{
 "cells": [
  {
   "cell_type": "markdown",
   "id": "fa09fe38-403a-404e-a60e-bd79fded1030",
   "metadata": {},
   "source": [
    "# Tensile test example"
   ]
  },
  {
   "cell_type": "markdown",
   "id": "e771c678-2068-45a5-9035-7745301339c6",
   "metadata": {},
   "source": [
    "### Data conversion from ELN to RDF for a tensile test experiment sample"
   ]
  },
  {
   "cell_type": "markdown",
   "id": "343d1a1f-f15b-4dea-820d-e3fb62e23a33",
   "metadata": {},
   "source": [
    "This notebook uses an example of the data which is synthetic, but that fits the format of the data derived from the experiments. The goal is to see how the scripts convert the data from the compressed format to an RDF graph and turtle file. \n",
    "Let's start by importing our functions and needed libraries. "
   ]
  },
  {
   "cell_type": "code",
   "execution_count": 8,
   "id": "f7d546e6-658e-4e76-9bee-d1e9ccb62d27",
   "metadata": {},
   "outputs": [],
   "source": [
    "#import libraries\n",
    "import yaml\n",
    "from rdflib import Graph\n",
    "import sys\n",
    "import os\n",
    "\n",
    "# Get the current working directory\n",
    "current_dir = os.getcwd()\n",
    "\n",
    "# Construct the path to the main directory\n",
    "main_dir_path = os.path.join(current_dir, '..')\n",
    "\n",
    "# Add the path to the Python path\n",
    "sys.path.append(main_dir_path)\n",
    "\n",
    "# import our functions from src\n",
    "from src import *"
   ]
  },
  {
   "cell_type": "markdown",
   "id": "12735446-5718-4f40-badd-3983d3ec4eee",
   "metadata": {},
   "source": [
    "Let's define the path to the eln export, provide a name for the output file, set the path of the keymap or configuration file, the pattern for the json file and also define a boolean variable that reflect our choice of whether we want to have the plot of the graph of the output or not."
   ]
  },
  {
   "cell_type": "code",
   "execution_count": 6,
   "id": "0fff01f6-a35b-47f0-8420-5b38a9a8328f",
   "metadata": {},
   "outputs": [],
   "source": [
    "# paths for the data\n",
    "eln_export = 'tensile_test_data_example.eln'\n",
    "output_file = 'tensile_test.ttl'\n",
    "keymap_file_path = '../keymaps/tensile_test.yml'\n",
    "pattern = 'ftw.json'\n",
    "plot = True  # whether or not to plot the RDF graph"
   ]
  },
  {
   "cell_type": "markdown",
   "id": "e605dba8-ebf5-4a55-b4e2-2ab03e6264c0",
   "metadata": {},
   "source": [
    "First, we create the graph and bind the prefixes to it. Then, we extract, parse and process the data with the mapping defined in the keymap file. In the end, the graph is serialized to Turtle format and the plot is also given as an output.  "
   ]
  },
  {
   "cell_type": "code",
   "execution_count": 5,
   "id": "82e7c4e3-9051-40fd-b833-a3b899217c1a",
   "metadata": {},
   "outputs": [],
   "source": [
    "# Load the keymap\n",
    "with open(keymap_file_path, 'r') as f:\n",
    "    keymap = yaml.safe_load(f)\n",
    "\n",
    "# Create a fresh RDF graph\n",
    "data_graph = Graph()\n",
    "\n",
    "# Bind the prefixes to the RDF graph\n",
    "bind_prefixes_to_graph(data_graph, keymap['namespaces'])\n",
    "\n",
    "# Process each file in the ELN export\n",
    "for file_name, json_data in json_data_from_zip_generator(eln_export, pattern):\n",
    "        elab_data = parse_json_export(json_data[0])\n",
    "        process_data_with_mapping(data_graph, elab_data, keymap)\n",
    "\n",
    "# Serialize the graph to a Turtle file\n",
    "data_graph.serialize(destination=output_file, format='turtle')\n",
    "\n",
    "# Plot RDF graph if plot is set to True\n",
    "if plot:\n",
    "    image_filename = os.path.splitext(output_file)[0] + '.png'\n",
    "    plot_rdf_graph(data_graph, image_filename)"
   ]
  }
 ],
 "metadata": {
  "kernelspec": {
   "display_name": "Python 3 (ipykernel)",
   "language": "python",
   "name": "python3"
  },
  "language_info": {
   "codemirror_mode": {
    "name": "ipython",
    "version": 3
   },
   "file_extension": ".py",
   "mimetype": "text/x-python",
   "name": "python",
   "nbconvert_exporter": "python",
   "pygments_lexer": "ipython3",
   "version": "3.9.13"
  }
 },
 "nbformat": 4,
 "nbformat_minor": 5
}
